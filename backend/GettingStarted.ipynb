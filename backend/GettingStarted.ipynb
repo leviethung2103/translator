{
 "cells": [
  {
   "cell_type": "code",
   "execution_count": null,
   "id": "a211c352-ef36-4c48-bfa3-561fc0f6961b",
   "metadata": {},
   "outputs": [],
   "source": [
    "from googletrans import Translator"
   ]
  },
  {
   "cell_type": "code",
   "execution_count": null,
   "id": "823c4182-0467-4c95-b2d6-4f75bcc48d1d",
   "metadata": {},
   "outputs": [],
   "source": [
    "!pip install httpx==0.13.3"
   ]
  },
  {
   "cell_type": "code",
   "execution_count": null,
   "id": "d1088809-2e76-4959-9a6c-b04649aa23ff",
   "metadata": {},
   "outputs": [],
   "source": [
    "translator = Translator()\n",
    "translator.translate('안녕하세요.',dest='ja')"
   ]
  },
  {
   "cell_type": "code",
   "execution_count": null,
   "id": "8aa21729-2acf-4dd7-8429-1d9fb1e8c141",
   "metadata": {},
   "outputs": [],
   "source": [
    "!pip install -U deep-translator\n"
   ]
  },
  {
   "cell_type": "code",
   "execution_count": null,
   "id": "0f47cf36-cf49-442d-bf9b-86863defa78f",
   "metadata": {},
   "outputs": [],
   "source": []
  },
  {
   "cell_type": "code",
   "execution_count": null,
   "id": "1b85087b-85a8-4e09-b577-49e907378e71",
   "metadata": {},
   "outputs": [],
   "source": [
    "GoogleTranslator(source='auto', target='de').translate(\"keep it up, you are awesome\") \n",
    "'weiter so, du bist toll'"
   ]
  },
  {
   "cell_type": "code",
   "execution_count": null,
   "id": "95dab3b8-a88e-44fa-8c85-95531e80f4c5",
   "metadata": {},
   "outputs": [],
   "source": [
    "from pptx import Presentation\n",
    "from deep_translator import GoogleTranslator\n",
    "from docx import Document\n",
    "\n",
    "# pip install -U deep-translator\n",
    "# pip install python-pptx\n",
    "\n",
    "# Load presentationj\n",
    "ppt = Presentation(\"./Translator.pptx\")\n",
    "translator = Translator()\n",
    "\n",
    "for slide in ppt.slides:\n",
    "    for shape in slide.shapes:\n",
    "        if hasattr(shape, \"text\"):\n",
    "            original_text = shape.text\n",
    "            translated_text = GoogleTranslator(source='auto', target = 'vi').translate(original_text)\n",
    "            shape.text = translated_text\n",
    "\n",
    "# Save the translated presentation\n",
    "ppt.save(\"translated_presentation.pptx\")"
   ]
  },
  {
   "cell_type": "code",
   "execution_count": 10,
   "id": "037779d7-3d7f-4913-be4c-db2ad08b3c38",
   "metadata": {},
   "outputs": [
    {
     "name": "stdout",
     "output_type": "stream",
     "text": [
      "Font file loaded: OpenSans.ttf\n",
      "Translation complete. Saved as 'translated_output.pdf'.\n"
     ]
    }
   ],
   "source": [
    "import fitz  # PyMuPDF\n",
    "from deep_translator import GoogleTranslator\n",
    "import unicodedata\n",
    "import os\n",
    "\n",
    "\n",
    "# Define the path to the fonts directory\n",
    "fonts_dir = \"./fonts\"  # Adjust this path as needed\n",
    "font_files = ['OpenSans.ttf']\n",
    "\n",
    "# Open the PDF\n",
    "pdf_document = fitz.open('./test_document.pdf')\n",
    "no_pages = len(pdf_document)\n",
    "\n",
    "# Load fonts from files\n",
    "loaded_fonts = []\n",
    "for font_file in font_files:\n",
    "    font_path = os.path.join(fonts_dir, font_file)\n",
    "    if os.path.exists(font_path):\n",
    "        try:\n",
    "            font_name = font_file.split('.')[0]\n",
    "            loaded_fonts.append((font_name, font_path))\n",
    "            print(f\"Font file loaded: {font_file}\")\n",
    "        except Exception as e:\n",
    "            print(f\"Failed to load font {font_file}: {str(e)}\")\n",
    "\n",
    "if not loaded_fonts:\n",
    "    print(\"No fonts could be loaded. Using built-in font as fallback.\")\n",
    "    loaded_fonts = [(\"helv\", None)]  # None will use a built-in font\n",
    "\n",
    "\n",
    "\n",
    "# Create a new PDF for the translated content\n",
    "translated_pdf = fitz.open()\n",
    "\n",
    "# Process each page\n",
    "for page_num in range(1):\n",
    "    page = pdf_document[page_num]\n",
    "    new_page = translated_pdf.new_page(width=page.rect.width, height=page.rect.height)\n",
    "    \n",
    "    # Get all text blocks on the page\n",
    "    blocks = page.get_text(\"dict\")[\"blocks\"]\n",
    "    \n",
    "    for block in blocks:\n",
    "        if block[\"type\"] == 0:  # Text block\n",
    "            for line in block[\"lines\"]:\n",
    "                for span in line[\"spans\"]:\n",
    "                    original_text = span[\"text\"]\n",
    "                    font_size = span[\"size\"]\n",
    "                    \n",
    "                    # Translate the text\n",
    "                    translated_text = GoogleTranslator(source='auto', target='vi').translate(original_text)\n",
    "                    \n",
    "                    # Try to insert text with loaded fonts\n",
    "                    for font_name, font_path in loaded_fonts:\n",
    "                        try:\n",
    "                            if font_path:\n",
    "                                new_page.insert_font(fontname=font_name, fontfile=font_path)\n",
    "                            new_page.insert_text(\n",
    "                                (span[\"origin\"][0], span[\"origin\"][1]),\n",
    "                                translated_text,\n",
    "                                fontsize=font_size,\n",
    "                                fontname=font_name,\n",
    "                                color=(0, 0, 0)\n",
    "                            )\n",
    "                            break  # If successful, break the loop\n",
    "                        except Exception as e:\n",
    "                            if (font_name, font_path) == loaded_fonts[-1]:  # If it's the last font in the list\n",
    "                                print(f\"Failed to insert text: {translated_text}\")\n",
    "                                print(f\"Error: {str(e)}\")\n",
    "        elif block[\"type\"] == 1:  # Image block\n",
    "            try:\n",
    "                # Copy images from the original PDF to the new PDF\n",
    "                new_page.insert_image(block[\"bbox\"], stream=page.get_images()[block[\"number\"]][1])\n",
    "            except Exception as e:\n",
    "                print(f\"Failed to insert image. Error: {str(e)}\")\n",
    "\n",
    "# Save the modified PDF\n",
    "translated_pdf.save('translated_output.pdf')\n",
    "translated_pdf.close()\n",
    "pdf_document.close()\n",
    "print(\"Translation complete. Saved as 'translated_output.pdf'.\")"
   ]
  },
  {
   "cell_type": "markdown",
   "id": "ae522455-ae21-4fdb-a25e-9ce8727d02f2",
   "metadata": {},
   "source": [
    "## Translate PDF"
   ]
  },
  {
   "cell_type": "code",
   "execution_count": null,
   "id": "10f11a61-049a-4570-ac82-a713c0b5c3eb",
   "metadata": {},
   "outputs": [],
   "source": [
    "!pip install PyMuPDF"
   ]
  },
  {
   "cell_type": "code",
   "execution_count": null,
   "id": "4a89694e-7b42-4594-99b6-001df7f410d5",
   "metadata": {},
   "outputs": [],
   "source": [
    "import fitz  # PyMuPDF\n",
    "from deep_translator import GoogleTranslator\n",
    "\n",
    "# Open the PDF\n",
    "pdf_document = fitz.open('./test_document.pdf')\n",
    "no_pages = len(pdf_document)\n",
    "\n",
    "# Process each page\n",
    "for page_num in range(no_pages):\n",
    "    page = pdf_document[page_num]\n",
    "    \n",
    "    # Get all text blocks on the page\n",
    "    blocks = page.get_text(\"blocks\")\n",
    "    \n",
    "    # Clear the page content\n",
    "    page.clean_contents()\n",
    "    \n",
    "    for block in blocks:\n",
    "        # Extract text and its position\n",
    "        original_text = block[4]\n",
    "        x0, y0, x1, y1 = block[:4]\n",
    "        \n",
    "        # Translate the text\n",
    "        translated_text = GoogleTranslator(source='auto', target='vi').translate(original_text)\n",
    "        \n",
    "        # Insert the translated text at the original position\n",
    "        page.insert_text((x0, y0), translated_text, fontsize=11, color=(0, 0, 0))\n",
    "\n",
    "# Save the modified PDF\n",
    "pdf_document.save('translated_example.pdf')\n",
    "pdf_document.close()\n",
    "print(\"Translation complete. Saved as 'translated_example.pdf'.\")"
   ]
  },
  {
   "cell_type": "code",
   "execution_count": null,
   "id": "1b1dd675-7fbc-4a7b-8b2a-e00a90ac969a",
   "metadata": {},
   "outputs": [],
   "source": []
  }
 ],
 "metadata": {
  "kernelspec": {
   "display_name": "Python 3 (ipykernel)",
   "language": "python",
   "name": "python3"
  },
  "language_info": {
   "codemirror_mode": {
    "name": "ipython",
    "version": 3
   },
   "file_extension": ".py",
   "mimetype": "text/x-python",
   "name": "python",
   "nbconvert_exporter": "python",
   "pygments_lexer": "ipython3",
   "version": "3.10.14"
  }
 },
 "nbformat": 4,
 "nbformat_minor": 5
}
